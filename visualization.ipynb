{
 "cells": [
  {
   "cell_type": "markdown",
   "metadata": {},
   "source": [
    "# Visualization of Videogame reviews from Metacritic website "
   ]
  },
  {
   "cell_type": "code",
   "execution_count": 1,
   "metadata": {},
   "outputs": [],
   "source": [
    "import numpy as np\n",
    "import pandas as pd\n",
    "import matplotlib.pyplot as mlt"
   ]
  },
  {
   "cell_type": "code",
   "execution_count": 2,
   "metadata": {},
   "outputs": [],
   "source": [
    "%matplotlib inline"
   ]
  },
  {
   "cell_type": "code",
   "execution_count": 14,
   "metadata": {},
   "outputs": [
    {
     "data": {
      "text/html": [
       "<div>\n",
       "<style scoped>\n",
       "    .dataframe tbody tr th:only-of-type {\n",
       "        vertical-align: middle;\n",
       "    }\n",
       "\n",
       "    .dataframe tbody tr th {\n",
       "        vertical-align: top;\n",
       "    }\n",
       "\n",
       "    .dataframe thead th {\n",
       "        text-align: right;\n",
       "    }\n",
       "</style>\n",
       "<table border=\"1\" class=\"dataframe\">\n",
       "  <thead>\n",
       "    <tr style=\"text-align: right;\">\n",
       "      <th></th>\n",
       "      <th>Unnamed: 0</th>\n",
       "      <th>score</th>\n",
       "      <th>name</th>\n",
       "      <th>platform</th>\n",
       "      <th>date</th>\n",
       "    </tr>\n",
       "  </thead>\n",
       "  <tbody>\n",
       "    <tr>\n",
       "      <th>0</th>\n",
       "      <td>0</td>\n",
       "      <td>99</td>\n",
       "      <td>The Legend of Zelda: Ocarina of Time</td>\n",
       "      <td>Nintendo 64</td>\n",
       "      <td>1998-11-23</td>\n",
       "    </tr>\n",
       "    <tr>\n",
       "      <th>1</th>\n",
       "      <td>1</td>\n",
       "      <td>98</td>\n",
       "      <td>Tony Hawk's Pro Skater 2</td>\n",
       "      <td>PlayStation</td>\n",
       "      <td>2000-09-20</td>\n",
       "    </tr>\n",
       "    <tr>\n",
       "      <th>2</th>\n",
       "      <td>2</td>\n",
       "      <td>98</td>\n",
       "      <td>Grand Theft Auto IV</td>\n",
       "      <td>PlayStation 3</td>\n",
       "      <td>2008-04-29</td>\n",
       "    </tr>\n",
       "    <tr>\n",
       "      <th>3</th>\n",
       "      <td>3</td>\n",
       "      <td>98</td>\n",
       "      <td>SoulCalibur</td>\n",
       "      <td>Dreamcast</td>\n",
       "      <td>1999-09-08</td>\n",
       "    </tr>\n",
       "    <tr>\n",
       "      <th>4</th>\n",
       "      <td>4</td>\n",
       "      <td>98</td>\n",
       "      <td>Grand Theft Auto IV</td>\n",
       "      <td>Xbox 360</td>\n",
       "      <td>2008-04-29</td>\n",
       "    </tr>\n",
       "  </tbody>\n",
       "</table>\n",
       "</div>"
      ],
      "text/plain": [
       "   Unnamed: 0  score                                  name       platform  \\\n",
       "0           0     99  The Legend of Zelda: Ocarina of Time    Nintendo 64   \n",
       "1           1     98              Tony Hawk's Pro Skater 2    PlayStation   \n",
       "2           2     98                   Grand Theft Auto IV  PlayStation 3   \n",
       "3           3     98                           SoulCalibur      Dreamcast   \n",
       "4           4     98                   Grand Theft Auto IV       Xbox 360   \n",
       "\n",
       "         date  \n",
       "0  1998-11-23  \n",
       "1  2000-09-20  \n",
       "2  2008-04-29  \n",
       "3  1999-09-08  \n",
       "4  2008-04-29  "
      ]
     },
     "execution_count": 14,
     "metadata": {},
     "output_type": "execute_result"
    }
   ],
   "source": [
    "df = pd.read_csv(\"bs4_metacritic.csv\")\n",
    "df.head()"
   ]
  },
  {
   "cell_type": "markdown",
   "metadata": {},
   "source": [
    "We unfortunately have an unnamed row which has the exact same values as the indexes. We shall remove it from our dataframe "
   ]
  },
  {
   "cell_type": "code",
   "execution_count": 16,
   "metadata": {},
   "outputs": [
    {
     "data": {
      "text/html": [
       "<div>\n",
       "<style scoped>\n",
       "    .dataframe tbody tr th:only-of-type {\n",
       "        vertical-align: middle;\n",
       "    }\n",
       "\n",
       "    .dataframe tbody tr th {\n",
       "        vertical-align: top;\n",
       "    }\n",
       "\n",
       "    .dataframe thead th {\n",
       "        text-align: right;\n",
       "    }\n",
       "</style>\n",
       "<table border=\"1\" class=\"dataframe\">\n",
       "  <thead>\n",
       "    <tr style=\"text-align: right;\">\n",
       "      <th></th>\n",
       "      <th>score</th>\n",
       "      <th>name</th>\n",
       "      <th>platform</th>\n",
       "      <th>date</th>\n",
       "    </tr>\n",
       "  </thead>\n",
       "  <tbody>\n",
       "    <tr>\n",
       "      <th>0</th>\n",
       "      <td>99</td>\n",
       "      <td>The Legend of Zelda: Ocarina of Time</td>\n",
       "      <td>Nintendo 64</td>\n",
       "      <td>1998-11-23</td>\n",
       "    </tr>\n",
       "    <tr>\n",
       "      <th>1</th>\n",
       "      <td>98</td>\n",
       "      <td>Tony Hawk's Pro Skater 2</td>\n",
       "      <td>PlayStation</td>\n",
       "      <td>2000-09-20</td>\n",
       "    </tr>\n",
       "    <tr>\n",
       "      <th>2</th>\n",
       "      <td>98</td>\n",
       "      <td>Grand Theft Auto IV</td>\n",
       "      <td>PlayStation 3</td>\n",
       "      <td>2008-04-29</td>\n",
       "    </tr>\n",
       "    <tr>\n",
       "      <th>3</th>\n",
       "      <td>98</td>\n",
       "      <td>SoulCalibur</td>\n",
       "      <td>Dreamcast</td>\n",
       "      <td>1999-09-08</td>\n",
       "    </tr>\n",
       "    <tr>\n",
       "      <th>4</th>\n",
       "      <td>98</td>\n",
       "      <td>Grand Theft Auto IV</td>\n",
       "      <td>Xbox 360</td>\n",
       "      <td>2008-04-29</td>\n",
       "    </tr>\n",
       "  </tbody>\n",
       "</table>\n",
       "</div>"
      ],
      "text/plain": [
       "   score                                  name       platform        date\n",
       "0     99  The Legend of Zelda: Ocarina of Time    Nintendo 64  1998-11-23\n",
       "1     98              Tony Hawk's Pro Skater 2    PlayStation  2000-09-20\n",
       "2     98                   Grand Theft Auto IV  PlayStation 3  2008-04-29\n",
       "3     98                           SoulCalibur      Dreamcast  1999-09-08\n",
       "4     98                   Grand Theft Auto IV       Xbox 360  2008-04-29"
      ]
     },
     "execution_count": 16,
     "metadata": {},
     "output_type": "execute_result"
    }
   ],
   "source": [
    "df = df.loc[:, \"score\":\"date\"]\n",
    "df.head()"
   ]
  },
  {
   "cell_type": "markdown",
   "metadata": {},
   "source": [
    "Let us look at the summary of our dataframe now"
   ]
  },
  {
   "cell_type": "code",
   "execution_count": 17,
   "metadata": {},
   "outputs": [
    {
     "name": "stdout",
     "output_type": "stream",
     "text": [
      "<class 'pandas.core.frame.DataFrame'>\n",
      "RangeIndex: 9900 entries, 0 to 9899\n",
      "Data columns (total 4 columns):\n",
      " #   Column    Non-Null Count  Dtype \n",
      "---  ------    --------------  ----- \n",
      " 0   score     9900 non-null   int64 \n",
      " 1   name      9900 non-null   object\n",
      " 2   platform  9900 non-null   object\n",
      " 3   date      9900 non-null   object\n",
      "dtypes: int64(1), object(3)\n",
      "memory usage: 309.5+ KB\n",
      "None\n",
      "            score\n",
      "count  9900.00000\n",
      "mean     79.25202\n",
      "std       5.67287\n",
      "min      71.00000\n",
      "25%      75.00000\n",
      "50%      79.00000\n",
      "75%      83.00000\n",
      "max      99.00000\n"
     ]
    }
   ],
   "source": [
    "print(df.info())\n",
    "print(df.describe())"
   ]
  },
  {
   "cell_type": "markdown",
   "metadata": {},
   "source": [
    "We will convert the \"date\" column data into datetime object. The format is obtained from the [python docs](https://docs.python.org/3/library/datetime.html#strftime-and-strptime-format-codes)."
   ]
  },
  {
   "cell_type": "code",
   "execution_count": 19,
   "metadata": {},
   "outputs": [
    {
     "name": "stdout",
     "output_type": "stream",
     "text": [
      "<class 'pandas.core.frame.DataFrame'>\n",
      "RangeIndex: 9900 entries, 0 to 9899\n",
      "Data columns (total 4 columns):\n",
      " #   Column    Non-Null Count  Dtype         \n",
      "---  ------    --------------  -----         \n",
      " 0   score     9900 non-null   int64         \n",
      " 1   name      9900 non-null   object        \n",
      " 2   platform  9900 non-null   object        \n",
      " 3   date      9900 non-null   datetime64[ns]\n",
      "dtypes: datetime64[ns](1), int64(1), object(2)\n",
      "memory usage: 309.5+ KB\n",
      "None\n"
     ]
    }
   ],
   "source": [
    "df[\"date\"] = pd.to_datetime( df[\"date\"], format=\"%Y-%m-%d\")\n",
    "print(df.info())"
   ]
  },
  {
   "cell_type": "markdown",
   "metadata": {},
   "source": [
    "We will first visualise based on the number of games released and average score for each platform"
   ]
  },
  {
   "cell_type": "code",
   "execution_count": 22,
   "metadata": {},
   "outputs": [
    {
     "data": {
      "text/plain": [
       "array(['Nintendo 64', 'PlayStation', 'PlayStation 3', 'Dreamcast',\n",
       "       'Xbox 360', 'Wii', 'Xbox One', 'Switch', 'PlayStation 2',\n",
       "       'PlayStation 4', 'GameCube', 'Xbox', 'PC', 'Wii U',\n",
       "       'Game Boy Advance', '3DS', 'DS', 'PlayStation Vita',\n",
       "       'PlayStation 5', 'PSP', 'Xbox Series X', 'Stadia'], dtype=object)"
      ]
     },
     "execution_count": 22,
     "metadata": {},
     "output_type": "execute_result"
    }
   ],
   "source": [
    "df[\"platform\"].unique()"
   ]
  },
  {
   "cell_type": "code",
   "execution_count": 24,
   "metadata": {},
   "outputs": [
    {
     "data": {
      "text/plain": [
       "PC                  2750\n",
       "PlayStation 4       1123\n",
       "Xbox 360             831\n",
       "Switch               727\n",
       "Xbox One             704\n",
       "PlayStation 3        692\n",
       "PlayStation 2        663\n",
       "Xbox                 426\n",
       "DS                   289\n",
       "Wii                  258\n",
       "GameCube             236\n",
       "PSP                  234\n",
       "Game Boy Advance     215\n",
       "3DS                  206\n",
       "PlayStation Vita     141\n",
       "Wii U                119\n",
       "PlayStation          115\n",
       "Dreamcast             76\n",
       "Nintendo 64           58\n",
       "PlayStation 5         20\n",
       "Xbox Series X         14\n",
       "Stadia                 3\n",
       "Name: platform, dtype: int64"
      ]
     },
     "execution_count": 24,
     "metadata": {},
     "output_type": "execute_result"
    }
   ],
   "source": [
    "df[\"platform\"].value_counts()"
   ]
  },
  {
   "cell_type": "code",
   "execution_count": 34,
   "metadata": {},
   "outputs": [
    {
     "data": {
      "text/plain": [
       "<AxesSubplot:title={'center':'Number of games per platform'}>"
      ]
     },
     "execution_count": 34,
     "metadata": {},
     "output_type": "execute_result"
    },
    {
     "data": {
      "image/png": "[encoded data removed]",
      "text/plain": [
       "<Figure size 1080x504 with 1 Axes>"
      ]
     },
     "metadata": {},
     "output_type": "display_data"
    }
   ],
   "source": [
    "mlt.style.use(\"seaborn\")\n",
    "df[\"platform\"].value_counts(ascending=True).plot.barh(figsize=(15,7), title=\"Number of games per platform\")"
   ]
  },
  {
   "cell_type": "code",
   "execution_count": 38,
   "metadata": {},
   "outputs": [
    {
     "data": {
      "text/plain": [
       "platform\n",
       "3DS                 78.868932\n",
       "DS                  78.089965\n",
       "Dreamcast           82.315789\n",
       "Game Boy Advance    79.144186\n",
       "GameCube            80.495763\n",
       "Nintendo 64         83.603448\n",
       "PC                  79.142909\n",
       "PSP                 78.004274\n",
       "PlayStation         83.252174\n",
       "PlayStation 2       79.659125\n",
       "PlayStation 3       80.140173\n",
       "PlayStation 4       78.336598\n",
       "PlayStation 5       80.450000\n",
       "PlayStation Vita    78.609929\n",
       "Stadia              78.000000\n",
       "Switch              78.536451\n",
       "Wii                 78.782946\n",
       "Wii U               80.252101\n",
       "Xbox                79.964789\n",
       "Xbox 360            79.831528\n",
       "Xbox One            78.849432\n",
       "Xbox Series X       81.071429\n",
       "Name: score, dtype: float64"
      ]
     },
     "execution_count": 38,
     "metadata": {},
     "output_type": "execute_result"
    }
   ],
   "source": [
    "plat_group = df.groupby([\"platform\"])\n",
    "plat_group[\"score\"].mean()"
   ]
  },
  {
   "cell_type": "markdown",
   "metadata": {},
   "source": [
    "As the values are very close to each other, all in the range of 75 to 85, we shall specify X-limits when plotting"
   ]
  },
  {
   "cell_type": "code",
   "execution_count": 42,
   "metadata": {},
   "outputs": [
    {
     "data": {
      "text/plain": [
       "<AxesSubplot:title={'center':'Average score per platform'}, ylabel='platform'>"
      ]
     },
     "execution_count": 42,
     "metadata": {},
     "output_type": "execute_result"
    },
    {
     "data": {
      "image/png": "[encoded data removed]",
      "text/plain": [
       "<Figure size 1296x648 with 1 Axes>"
      ]
     },
     "metadata": {},
     "output_type": "display_data"
    }
   ],
   "source": [
    "plat_group[\"score\"].mean().plot.barh(figsize=(18,9), title=\"Average score per platform\", xlim=(75,85))"
   ]
  },
  {
   "cell_type": "markdown",
   "metadata": {},
   "source": [
    "We can clearly see that the older generation consoles i.e N64, Dreamcast and PlayStation lead the charts. However, they lie in the bottom in the \"number of games per console\" graph."
   ]
  },
  {
   "cell_type": "markdown",
   "metadata": {},
   "source": [
    "## Important disclaimer:\n",
    "The data obtained is only for the first 100 out of 181 pages in the Metacritic reviews. The data vusalization is not an accurate representation of the average scores of the number of games released for any of these platforms. This project is only for personal practise"
   ]
  }
 ],
 "metadata": {
  "kernelspec": {
   "display_name": "Python 3",
   "language": "python",
   "name": "python3"
  },
  "language_info": {
   "codemirror_mode": {
    "name": "ipython",
    "version": 3
   },
   "file_extension": ".py",
   "mimetype": "text/x-python",
   "name": "python",
   "nbconvert_exporter": "python",
   "pygments_lexer": "ipython3",
   "version": "3.7.4"
  }
 },
 "nbformat": 4,
 "nbformat_minor": 4
}
